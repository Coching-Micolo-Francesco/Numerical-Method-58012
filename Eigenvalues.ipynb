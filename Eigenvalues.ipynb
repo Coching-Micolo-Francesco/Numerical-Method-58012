{
  "nbformat": 4,
  "nbformat_minor": 0,
  "metadata": {
    "colab": {
      "name": "Eigenvalues.ipynb",
      "provenance": [],
      "authorship_tag": "ABX9TyNJBDFlGwHr2M4gMvPgk3Ef",
      "include_colab_link": true
    },
    "kernelspec": {
      "name": "python3",
      "display_name": "Python 3"
    },
    "language_info": {
      "name": "python"
    }
  },
  "cells": [
    {
      "cell_type": "markdown",
      "metadata": {
        "id": "view-in-github",
        "colab_type": "text"
      },
      "source": [
        "<a href=\"https://colab.research.google.com/github/kobebryantandlebron/Linear-Algebra-58019/blob/main/Eigenvalues.ipynb\" target=\"_parent\"><img src=\"https://colab.research.google.com/assets/colab-badge.svg\" alt=\"Open In Colab\"/></a>"
      ]
    },
    {
      "cell_type": "code",
      "execution_count": 2,
      "metadata": {
        "colab": {
          "base_uri": "https://localhost:8080/"
        },
        "id": "3QqOdh6wJTxN",
        "outputId": "6063f9c2-ad94-4db5-bd3e-afd558f83fe8"
      },
      "outputs": [
        {
          "output_type": "stream",
          "name": "stdout",
          "text": [
            "[[-12   3]\n",
            " [  4   1]]\n",
            "[[-0.04166667  0.125     ]\n",
            " [ 0.16666667  0.5       ]]\n",
            "[[0]\n",
            " [0]]\n",
            "[[0.]\n",
            " [0.]]\n",
            "[[-0.]\n",
            " [ 0.]]\n"
          ]
        }
      ],
      "source": [
        "import numpy as np\n",
        "from scipy.linalg import solve\n",
        "#from numpy.linalg import eig\n",
        "\n",
        "A = np.array([[-12,3],[4,1]])\n",
        "print(A)\n",
        "\n",
        "inv_A = np.linalg.inv(A)\n",
        "print(inv_A)\n",
        "\n",
        "B = np.array([[0],[0]])\n",
        "print(B)\n",
        "\n",
        "X = np.dot(inv_A,B)\n",
        "print(X)\n",
        "\n",
        "X = solve(A,B)\n",
        "print(X)"
      ]
    },
    {
      "cell_type": "code",
      "source": [
        "#Example no 1\n",
        "A = np.array([[-6,3],[4,5]])\n",
        "print(A)\n",
        "\n",
        "w,v = np.linalg.eig(A)\n",
        "print(\"THE EIGENVALUES IS/ARE:\",w)\n",
        "print(\"THE RIGHT EIGENVECTORS ARE:\",v)\n",
        "\n",
        "#x = v.round()\n",
        "#print(x)\n"
      ],
      "metadata": {
        "colab": {
          "base_uri": "https://localhost:8080/"
        },
        "id": "aCmczf8mKRea",
        "outputId": "cac4bd2c-a669-437e-d736-07708641fc47"
      },
      "execution_count": 3,
      "outputs": [
        {
          "output_type": "stream",
          "name": "stdout",
          "text": [
            "[[-6  3]\n",
            " [ 4  5]]\n",
            "THE EIGENVALUES IS/ARE: [-7.  6.]\n",
            "THE RIGHT EIGENVECTORS ARE: [[-0.9486833  -0.24253563]\n",
            " [ 0.31622777 -0.9701425 ]]\n"
          ]
        }
      ]
    },
    {
      "cell_type": "code",
      "source": [
        "#Example no 2\n",
        "A = np.array([[2,2,4],[1,3,5],[2,3,4]])\n",
        "print(A)\n",
        "\n",
        "s,t = np.linalg.eig(A)\n",
        "print(s.round())\n",
        "print(t.round())\n",
        "c = np.dot(A,t.round())\n",
        "print(c)"
      ],
      "metadata": {
        "colab": {
          "base_uri": "https://localhost:8080/"
        },
        "id": "p_IjbgwpLC5n",
        "outputId": "c111208e-0263-4791-a207-1866960f34e3"
      },
      "execution_count": 4,
      "outputs": [
        {
          "output_type": "stream",
          "name": "stdout",
          "text": [
            "[[2 2 4]\n",
            " [1 3 5]\n",
            " [2 3 4]]\n",
            "[ 9.  1. -1.]\n",
            "[[-1. -1. -0.]\n",
            " [-1.  1. -1.]\n",
            " [-1. -0.  1.]]\n",
            "[[-8.  0.  2.]\n",
            " [-9.  2.  2.]\n",
            " [-9.  1.  1.]]\n"
          ]
        }
      ]
    },
    {
      "cell_type": "code",
      "source": [
        "f = np.array([[-1],[-1],[-1]])\n",
        "print(f)\n",
        "g = np.dot(A,f)\n",
        "print(g)"
      ],
      "metadata": {
        "colab": {
          "base_uri": "https://localhost:8080/"
        },
        "id": "XtfbeiWELjM6",
        "outputId": "b8ff7237-1374-4255-b44d-b4d598b6ca14"
      },
      "execution_count": 5,
      "outputs": [
        {
          "output_type": "stream",
          "name": "stdout",
          "text": [
            "[[-1]\n",
            " [-1]\n",
            " [-1]]\n",
            "[[-8]\n",
            " [-9]\n",
            " [-9]]\n"
          ]
        }
      ]
    }
  ]
}