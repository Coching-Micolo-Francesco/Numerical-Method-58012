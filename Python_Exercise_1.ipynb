{
  "nbformat": 4,
  "nbformat_minor": 0,
  "metadata": {
    "colab": {
      "name": "Phyton Exercise 1.ipynb",
      "provenance": [],
      "authorship_tag": "ABX9TyOj32cMx6qblB0ABnpnQY6a",
      "include_colab_link": true
    },
    "kernelspec": {
      "name": "python3",
      "display_name": "Python 3"
    },
    "language_info": {
      "name": "python"
    }
  },
  "cells": [
    {
      "cell_type": "markdown",
      "metadata": {
        "id": "view-in-github",
        "colab_type": "text"
      },
      "source": [
        "<a href=\"https://colab.research.google.com/github/kobebryantandlebron/Linear-Algebra-58019/blob/main/Python_Exercise_1.ipynb\" target=\"_parent\"><img src=\"https://colab.research.google.com/assets/colab-badge.svg\" alt=\"Open In Colab\"/></a>"
      ]
    },
    {
      "cell_type": "code",
      "metadata": {
        "colab": {
          "base_uri": "https://localhost:8080/"
        },
        "id": "Uh4wdsNjDg-V",
        "outputId": "c159498d-b814-49f2-c074-971365856c9e"
      },
      "source": [
        "# 1. sum = A + B\n",
        "import numpy as np\n",
        "A = np.array([[-5,0],[4,1]])\n",
        "B = np.array ([[6,-3],[2,3]])\n",
        "sum = A + B\n",
        "print(sum)"
      ],
      "execution_count": 1,
      "outputs": [
        {
          "output_type": "stream",
          "name": "stdout",
          "text": [
            "[[ 1 -3]\n",
            " [ 6  4]]\n"
          ]
        }
      ]
    },
    {
      "cell_type": "code",
      "metadata": {
        "colab": {
          "base_uri": "https://localhost:8080/"
        },
        "id": "u6Y8kJrsDlBI",
        "outputId": "b28098b0-7ce3-426c-d14b-a747a82a1c17"
      },
      "source": [
        "# 2. difference1 = B - A\n",
        "import numpy as np\n",
        "A = np.array([[-5,0],[4,1]])\n",
        "B = np.array ([[6,-3],[2,3]])\n",
        "difference1 = B - A\n",
        "print(difference1)"
      ],
      "execution_count": 3,
      "outputs": [
        {
          "output_type": "stream",
          "name": "stdout",
          "text": [
            "[[11 -3]\n",
            " [-2  2]]\n"
          ]
        }
      ]
    },
    {
      "cell_type": "code",
      "metadata": {
        "colab": {
          "base_uri": "https://localhost:8080/"
        },
        "id": "V-qval3mDnLc",
        "outputId": "0effaef6-2ae7-46ee-f6f8-1b9cfabd92af"
      },
      "source": [
        "# 3. difference2 = A - B \n",
        "import numpy as np\n",
        "A = np.array([[-5,0],[4,1]])\n",
        "B = np.array ([[6,-3],[2,3]])\n",
        "difference2 = A - B\n",
        "print(difference2)\n"
      ],
      "execution_count": 4,
      "outputs": [
        {
          "output_type": "stream",
          "name": "stdout",
          "text": [
            "[[-11   3]\n",
            " [  2  -2]]\n"
          ]
        }
      ]
    }
  ]
}