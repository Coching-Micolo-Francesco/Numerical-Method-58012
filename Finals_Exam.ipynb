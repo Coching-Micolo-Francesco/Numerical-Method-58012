{
  "nbformat": 4,
  "nbformat_minor": 0,
  "metadata": {
    "colab": {
      "name": "Finals Exam.ipynb",
      "provenance": [],
      "authorship_tag": "ABX9TyMP+O7EDoSy6qtniPtUaLmT",
      "include_colab_link": true
    },
    "kernelspec": {
      "name": "python3",
      "display_name": "Python 3"
    },
    "language_info": {
      "name": "python"
    }
  },
  "cells": [
    {
      "cell_type": "markdown",
      "metadata": {
        "id": "view-in-github",
        "colab_type": "text"
      },
      "source": [
        "<a href=\"https://colab.research.google.com/github/kobebryantandlebron/Linear-Algebra-58019/blob/main/Finals_Exam.ipynb\" target=\"_parent\"><img src=\"https://colab.research.google.com/assets/colab-badge.svg\" alt=\"Open In Colab\"/></a>"
      ]
    },
    {
      "cell_type": "markdown",
      "source": [
        "PROBLEM NUMBER 1"
      ],
      "metadata": {
        "id": "nRinq_N1NUbY"
      }
    },
    {
      "cell_type": "code",
      "source": [
        "import numpy as np\n",
        "eq1 = np.array([[1,1,1],[1,0,4],[0,0,5]])\n",
        "eq2 = np.array([[89],[89],[95]])\n",
        "amt = np.linalg.inv(eq1).dot(eq2)\n",
        "print(amt)"
      ],
      "metadata": {
        "colab": {
          "base_uri": "https://localhost:8080/"
        },
        "id": "abZBp89dNYi6",
        "outputId": "d8e6ed52-b4ce-44d4-a108-7d9f3d48ca23"
      },
      "execution_count": 9,
      "outputs": [
        {
          "output_type": "stream",
          "name": "stdout",
          "text": [
            "[[13.]\n",
            " [57.]\n",
            " [19.]]\n"
          ]
        }
      ]
    },
    {
      "cell_type": "markdown",
      "source": [
        "PROBLEM NUMBER 2"
      ],
      "metadata": {
        "id": "GhP3ErgNNY0x"
      }
    },
    {
      "cell_type": "code",
      "source": [
        ""
      ],
      "metadata": {
        "id": "MWlMcsiENa1u"
      },
      "execution_count": null,
      "outputs": []
    },
    {
      "cell_type": "markdown",
      "source": [
        "PROBLEM NUMBER 3"
      ],
      "metadata": {
        "id": "Ug8o54KvNbLa"
      }
    },
    {
      "cell_type": "code",
      "source": [
        "import numpy as np\n",
        "from scipy.linalg import solve\n",
        "from numpy.linalg import eig\n",
        "\n",
        "A = np.array([[8, 5, -6],\n",
        "              [-12, 9, 12],\n",
        "              [-3, -3, 5]])\n",
        "w,v = np.linalg.eig(A)\n",
        "print(\"THE EIGENVALUES IS/ARE:\",w)\n",
        "print(\"THE RIGHT EIGENVECTORS ARE:\",v)"
      ],
      "metadata": {
        "colab": {
          "base_uri": "https://localhost:8080/"
        },
        "id": "tSZ1V-FgNeBS",
        "outputId": "5481bf2c-0c3e-45b8-f0b8-7e4d57d24c23"
      },
      "execution_count": 6,
      "outputs": [
        {
          "output_type": "stream",
          "name": "stdout",
          "text": [
            "THE EIGENVALUES IS/ARE: [10.+9.74679434j 10.-9.74679434j  2.+0.j        ]\n",
            "THE RIGHT EIGENVECTORS ARE: [[-6.19826768e-02-0.44653265j -6.19826768e-02+0.44653265j\n",
            "   7.07106781e-01+0.j        ]\n",
            " [ 8.56977879e-01+0.j          8.56977879e-01-0.j\n",
            "  -1.66861154e-16+0.j        ]\n",
            " [ 9.43214647e-03+0.24953295j  9.43214647e-03-0.24953295j\n",
            "   7.07106781e-01+0.j        ]]\n"
          ]
        }
      ]
    }
  ]
}