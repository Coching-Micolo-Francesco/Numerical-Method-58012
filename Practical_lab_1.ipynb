{
  "nbformat": 4,
  "nbformat_minor": 0,
  "metadata": {
    "colab": {
      "name": "Practical lab 1.ipynb",
      "provenance": [],
      "authorship_tag": "ABX9TyOfPPJP1IUTy7q6dQ/seb7A",
      "include_colab_link": true
    },
    "kernelspec": {
      "name": "python3",
      "display_name": "Python 3"
    },
    "language_info": {
      "name": "python"
    }
  },
  "cells": [
    {
      "cell_type": "markdown",
      "metadata": {
        "id": "view-in-github",
        "colab_type": "text"
      },
      "source": [
        "<a href=\"https://colab.research.google.com/github/kobebryantandlebron/Linear-Algebra-58019/blob/main/Practical_lab_1.ipynb\" target=\"_parent\"><img src=\"https://colab.research.google.com/assets/colab-badge.svg\" alt=\"Open In Colab\"/></a>"
      ]
    },
    {
      "cell_type": "markdown",
      "metadata": {
        "id": "VwFJYBmP99QF"
      },
      "source": [
        "PROBLEM NUMBER 1"
      ]
    },
    {
      "cell_type": "code",
      "metadata": {
        "colab": {
          "base_uri": "https://localhost:8080/"
        },
        "id": "afxM1rVJ7fxp",
        "outputId": "3ad42cba-cbc7-44a2-c768-483b24a0120b"
      },
      "source": [
        "import numpy as np\n",
        "\n",
        "A = np.array ([[1,2,3],[4,5,6]])\n",
        "B = np.array ([[1,2],[3,4],[5,6]])\n",
        "C = np.array ([[1,2,3],[4,5,6],[7,8,9]])\n",
        "D = np.array ([[1,2],[3,4]])\n",
        "print(A) \n",
        "print(B)\n",
        "print(C)\n",
        "print(D)"
      ],
      "execution_count": 3,
      "outputs": [
        {
          "output_type": "stream",
          "name": "stdout",
          "text": [
            "[[1 2 3]\n",
            " [4 5 6]]\n",
            "[[1 2]\n",
            " [3 4]\n",
            " [5 6]]\n",
            "[[1 2 3]\n",
            " [4 5 6]\n",
            " [7 8 9]]\n",
            "[[1 2]\n",
            " [3 4]]\n"
          ]
        }
      ]
    },
    {
      "cell_type": "code",
      "metadata": {
        "colab": {
          "base_uri": "https://localhost:8080/"
        },
        "id": "UKpK5caV7mUm",
        "outputId": "37679b06-d987-4105-fff8-7466e411ff31"
      },
      "source": [
        "dot = np.dot(A,B)\n",
        "print   (dot)"
      ],
      "execution_count": 6,
      "outputs": [
        {
          "output_type": "stream",
          "name": "stdout",
          "text": [
            "[[22 28]\n",
            " [49 64]]\n"
          ]
        }
      ]
    },
    {
      "cell_type": "code",
      "metadata": {
        "colab": {
          "base_uri": "https://localhost:8080/"
        },
        "id": "LFIRIhhe7o6X",
        "outputId": "d8290c7a-5268-44a7-c865-48ed88a94fbe"
      },
      "source": [
        "sum = D + D\n",
        "print(sum)\n"
      ],
      "execution_count": 4,
      "outputs": [
        {
          "output_type": "stream",
          "name": "stdout",
          "text": [
            "[[2 4]\n",
            " [6 8]]\n"
          ]
        }
      ]
    },
    {
      "cell_type": "code",
      "metadata": {
        "colab": {
          "base_uri": "https://localhost:8080/"
        },
        "id": "z57SNL0R7rz_",
        "outputId": "b6374385-15de-414c-ea33-aff660159b10"
      },
      "source": [
        "prod = C * 2\n",
        "print(prod)\n"
      ],
      "execution_count": 5,
      "outputs": [
        {
          "output_type": "stream",
          "name": "stdout",
          "text": [
            "[[ 2  4  6]\n",
            " [ 8 10 12]\n",
            " [14 16 18]]\n"
          ]
        }
      ]
    },
    {
      "cell_type": "markdown",
      "metadata": {
        "id": "88n5gu62-Cx8"
      },
      "source": [
        "PROBLEM NUMBER 2"
      ]
    },
    {
      "cell_type": "code",
      "metadata": {
        "colab": {
          "base_uri": "https://localhost:8080/"
        },
        "id": "KWz691nE-FoH",
        "outputId": "6a58845c-65aa-4005-ec12-f54c965f7aa4"
      },
      "source": [
        "import numpy as np\n",
        "A = np.array ([5,3,-1])\n",
        "\n",
        "print(A.size)\n",
        "\n",
        "print(type(A))\n",
        "\n",
        "print(A.shape)\n",
        "\n",
        "print(A.ndim)"
      ],
      "execution_count": 7,
      "outputs": [
        {
          "output_type": "stream",
          "name": "stdout",
          "text": [
            "3\n",
            "<class 'numpy.ndarray'>\n",
            "(3,)\n",
            "1\n"
          ]
        }
      ]
    }
  ]
}