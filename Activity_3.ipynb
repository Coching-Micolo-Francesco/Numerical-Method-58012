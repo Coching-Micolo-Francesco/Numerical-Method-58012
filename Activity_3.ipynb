{
  "nbformat": 4,
  "nbformat_minor": 0,
  "metadata": {
    "colab": {
      "name": "Untitled2.ipynb",
      "provenance": [],
      "authorship_tag": "ABX9TyPuI7KtcpXn/LhX3s0hbOlD",
      "include_colab_link": true
    },
    "kernelspec": {
      "name": "python3",
      "display_name": "Python 3"
    },
    "language_info": {
      "name": "python"
    }
  },
  "cells": [
    {
      "cell_type": "markdown",
      "metadata": {
        "id": "view-in-github",
        "colab_type": "text"
      },
      "source": [
        "<a href=\"https://colab.research.google.com/github/kobebryantandlebron/Linear-Algebra-58019/blob/main/Activity_3.ipynb\" target=\"_parent\"><img src=\"https://colab.research.google.com/assets/colab-badge.svg\" alt=\"Open In Colab\"/></a>"
      ]
    },
    {
      "cell_type": "code",
      "metadata": {
        "colab": {
          "base_uri": "https://localhost:8080/"
        },
        "id": "Q5CoPygGXiPS",
        "outputId": "91ee8f77-2d58-46f7-d336-26a7642607e5"
      },
      "source": [
        "import numpy as np\n",
        "A=np.array([[[4,10,8],[10,26,26],[8,26,61]]]) #creation of matrix A\n",
        "print(A)\n",
        "inv_A=np.linalg.inv(A)\n",
        "print(inv_A)"
      ],
      "execution_count": 2,
      "outputs": [
        {
          "output_type": "stream",
          "name": "stdout",
          "text": [
            "[[[ 4 10  8]\n",
            "  [10 26 26]\n",
            "  [ 8 26 61]]]\n",
            "[[[ 25.27777778 -11.16666667   1.44444444]\n",
            "  [-11.16666667   5.          -0.66666667]\n",
            "  [  1.44444444  -0.66666667   0.11111111]]]\n"
          ]
        }
      ]
    },
    {
      "cell_type": "code",
      "metadata": {
        "colab": {
          "base_uri": "https://localhost:8080/"
        },
        "id": "M3ZjPizJYlBM",
        "outputId": "d5d15c12-e671-4373-b255-df9de50aa263"
      },
      "source": [
        "B=np.array([[[44],[128],[214]]])\n",
        "print(B)"
      ],
      "execution_count": 3,
      "outputs": [
        {
          "output_type": "stream",
          "name": "stdout",
          "text": [
            "[[[ 44]\n",
            "  [128]\n",
            "  [214]]]\n"
          ]
        }
      ]
    },
    {
      "cell_type": "code",
      "metadata": {
        "colab": {
          "base_uri": "https://localhost:8080/"
        },
        "id": "T1oHT-EBY51c",
        "outputId": "dc1499ae-0625-47d2-d13f-a7c94d222292"
      },
      "source": [
        "X=np.linalg.inv(A).dot(B)\n",
        "print(B)"
      ],
      "execution_count": 4,
      "outputs": [
        {
          "output_type": "stream",
          "name": "stdout",
          "text": [
            "[[[ 44]\n",
            "  [128]\n",
            "  [214]]]\n"
          ]
        }
      ]
    },
    {
      "cell_type": "code",
      "metadata": {
        "colab": {
          "base_uri": "https://localhost:8080/"
        },
        "id": "Aatb8-zhZCNI",
        "outputId": "eec24bdc-02ef-4ec7-924a-192ed459389f"
      },
      "source": [
        "X=np.linalg.inv(A).dot(B)\n",
        "print(X)"
      ],
      "execution_count": 5,
      "outputs": [
        {
          "output_type": "stream",
          "name": "stdout",
          "text": [
            "[[[[-8.]]\n",
            "\n",
            "  [[ 6.]]\n",
            "\n",
            "  [[ 2.]]]]\n"
          ]
        }
      ]
    },
    {
      "cell_type": "code",
      "metadata": {
        "colab": {
          "base_uri": "https://localhost:8080/"
        },
        "id": "EyZuVDZrZKUQ",
        "outputId": "b891c01c-fb7b-4a1c-f033-e86ce88f75ef"
      },
      "source": [
        "X=np.dot(inv_A,B)\n",
        "print(X)"
      ],
      "execution_count": 8,
      "outputs": [
        {
          "output_type": "stream",
          "name": "stdout",
          "text": [
            "[[[[-8.]]\n",
            "\n",
            "  [[ 6.]]\n",
            "\n",
            "  [[ 2.]]]]\n"
          ]
        }
      ]
    },
    {
      "cell_type": "code",
      "metadata": {
        "id": "5P9G-z7JZOtF"
      },
      "source": [
        ""
      ],
      "execution_count": 6,
      "outputs": []
    }
  ]
}